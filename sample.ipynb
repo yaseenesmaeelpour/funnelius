{
 "cells": [
  {
   "cell_type": "code",
   "execution_count": 9,
   "id": "ccdd5cd0-b0af-48d9-93a1-c34250fb636a",
   "metadata": {},
   "outputs": [],
   "source": [
    "import funnelius as funnel"
   ]
  },
  {
   "cell_type": "code",
   "execution_count": 10,
   "id": "ebc26116-86e1-4c55-ad16-93db96750b34",
   "metadata": {},
   "outputs": [],
   "source": [
    "import pandas as pd"
   ]
  },
  {
   "cell_type": "code",
   "execution_count": 11,
   "id": "ee6a67c5-d6f1-4df3-b428-347d9ca65196",
   "metadata": {},
   "outputs": [],
   "source": [
    "df = pd.read_csv('sample_data_vehicle.csv')"
   ]
  },
  {
   "cell_type": "code",
   "execution_count": 15,
   "id": "8c3da66c-9698-4877-a0a3-ac5535c95d19",
   "metadata": {},
   "outputs": [],
   "source": [
    "funnel.render(df)"
   ]
  }
 ],
 "metadata": {
  "kernelspec": {
   "display_name": "Python 3 (ipykernel)",
   "language": "python",
   "name": "python3"
  },
  "language_info": {
   "codemirror_mode": {
    "name": "ipython",
    "version": 3
   },
   "file_extension": ".py",
   "mimetype": "text/x-python",
   "name": "python",
   "nbconvert_exporter": "python",
   "pygments_lexer": "ipython3",
   "version": "3.13.3"
  }
 },
 "nbformat": 4,
 "nbformat_minor": 5
}
